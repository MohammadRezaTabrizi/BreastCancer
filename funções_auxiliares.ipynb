{
  "nbformat": 4,
  "nbformat_minor": 0,
  "metadata": {
    "colab": {
      "name": "funções auxiliares.ipynb",
      "provenance": []
    },
    "kernelspec": {
      "name": "python3",
      "display_name": "Python 3"
    }
  },
  "cells": [
    {
      "cell_type": "markdown",
      "metadata": {
        "colab_type": "text",
        "id": "OMpJP2M1Pnsz"
      },
      "source": [
        "### 9 Definição de funções auxiliares\n",
        "\n",
        "Começamos por apresentar métricas que enriquecerão o **report** dos modelos:"
      ]
    },
    {
      "cell_type": "code",
      "metadata": {
        "colab_type": "code",
        "id": "RAnMKxPXTcuY",
        "colab": {}
      },
      "source": [
        "def precision(label, confusion_matrix):\n",
        "    col = confusion_matrix[:, label]\n",
        "    return confusion_matrix[label, label] / col.sum()\n",
        "    \n",
        "def recall(label, confusion_matrix):\n",
        "    row = confusion_matrix[label, :]\n",
        "    return confusion_matrix[label, label] / row.sum()\n",
        "\n",
        "def precision_macro_average(confusion_matrix):\n",
        "    rows, columns = confusion_matrix.shape\n",
        "    sum_of_precisions = 0\n",
        "    for label in range(rows):\n",
        "        sum_of_precisions += precision(label, confusion_matrix)\n",
        "    return sum_of_precisions / rows\n",
        "\n",
        "def recall_macro_average(confusion_matrix):\n",
        "    rows, columns = confusion_matrix.shape\n",
        "    sum_of_recalls = 0\n",
        "    for label in range(columns):\n",
        "        sum_of_recalls += recall(label, confusion_matrix)\n",
        "    return sum_of_recalls / columns\n",
        "\n",
        "def accuracy(confusion_matrix):\n",
        "    diagonal_sum = confusion_matrix.trace()\n",
        "    sum_of_all_elements = confusion_matrix.sum()\n",
        "    return diagonal_sum / sum_of_all_elements \n"
      ],
      "execution_count": null,
      "outputs": []
    },
    {
      "cell_type": "markdown",
      "metadata": {
        "colab_type": "text",
        "id": "eoXZE5vYP4L_"
      },
      "source": [
        "As seguintes funções avaliam, para cada modelo, a **matriz de confusão**, **métricas de performance** e **plots da loss e accuracy**:"
      ]
    },
    {
      "cell_type": "code",
      "metadata": {
        "colab_type": "code",
        "id": "ZSH_iafpCoyi",
        "colab": {}
      },
      "source": [
        "def output_metrics(model,history,X_test, y_test):\n",
        "   model.save('model.--{epoch:02d}-{val_accuracy:.2f}.h5')\n",
        "   filename = 'model.--{epoch:02d}-{val_accuracy:.2f}.sav'\n",
        "   joblib.dump(model, filename)\n",
        "   cm = confusion_matrix(y_test, np.argmax(model.predict(X_test),axis=1))\n",
        "   conf_mat=pd.DataFrame(cm)\n",
        "   conf_mat.index.name='Actual'\n",
        "   conf_mat.columns.name='Predicted'\n",
        "   #print(conf_mat)\n",
        "   #print('accuracy total:', accuracy(cm))\n",
        "   #print('precision Cancer:', precision(0,cm))\n",
        "  # print('recall Cancer:', recall(0,cm))\n",
        "   #print('precision total:', precision_macro_average(cm))\n",
        "   #print('recall total:', recall_macro_average(cm))\n",
        "   #print(\"label precision recall\")\n",
        "   #for label in range(len(unique_labels(y_test))):\n",
        "   # print(f\"{label:5d} {precision(label, cm):9.3f} {recall(label, cm):6.3f}\")\n",
        "   results=model.evaluate(X_test, y_test)\n",
        "   print(results)\n",
        "   plt.figure(figsize=(12,4))\n",
        "   plt.subplot(1, 2, 1)\n",
        "   plt.plot(history.history['accuracy'])\n",
        "   plt.plot(history.history['val_accuracy'])\n",
        "   plt.title('Model accuracy')\n",
        "   plt.ylabel('Accuracy')\n",
        "   plt.xlabel('Epoch')\n",
        "   plt.legend(['Train', 'Test'], loc='upper left')\n",
        "   plt.subplot(1, 2, 2)\n",
        "   plt.plot(history.history['loss'])\n",
        "   plt.plot(history.history['val_loss'])\n",
        "   plt.title('Model loss')\n",
        "   plt.ylabel('Loss')\n",
        "   plt.xlabel('Epoch')\n",
        "   plt.legend(['Train', 'Test'], loc='upper left')\n",
        "   plt.show()"
      ],
      "execution_count": null,
      "outputs": []
    },
    {
      "cell_type": "code",
      "metadata": {
        "colab_type": "code",
        "id": "pISnbNGOCpUW",
        "colab": {}
      },
      "source": [
        "def output_metrics2(model,history,X_test, y_test):\n",
        "   model.save('model.--{epoch:02d}-{val_accuracy:.2f}.h5')\n",
        "   filename = 'model.--{epoch:02d}-{val_accuracy:.2f}.sav'\n",
        "   joblib.dump(model, filename)\n",
        "\n",
        "   cm = confusion_matrix(y_test, np.argmax(model.predict(X_test),axis=1))\n",
        "   conf_mat=pd.DataFrame(cm)\n",
        "   conf_mat.index.name='Actual'\n",
        "   conf_mat.columns.name='Predicted'\n",
        "\n",
        "   #print(conf_mat)\n",
        "   print('accuracy total:', accuracy(cm))\n",
        "   #print('precision Cancer:', precision(0,cm))\n",
        "  # print('recall covid:', recall(0,cm))\n",
        "  # print('precision total:', precision_macro_average(cm))\n",
        "   #print('recall total:', recall_macro_average(cm))\n",
        "\n",
        "   #print(\"label precision recall\")\n",
        "   #for label in range(len(unique_labels(y_test))):\n",
        "    #print(f\"{label:5d} {precision(label, cm):9.3f} {recall(label, cm):6.3f}\")\n",
        "\n",
        "   results=model.evaluate(X_test, y_test)\n",
        "   print(results)\n",
        "\n",
        "   plt.figure(figsize=(12,4))\n",
        "   plt.subplot(1, 2, 1)\n",
        "   plt.plot(history.history['accuracy'])\n",
        "   plt.title('Model accuracy')\n",
        "   plt.ylabel('Accuracy')\n",
        "   plt.xlabel('Epoch')\n",
        "   plt.legend(['Train', 'Test'], loc='upper left')\n",
        "   plt.subplot(1, 2, 2)\n",
        "   plt.plot(history.history['loss'])\n",
        "   plt.title('Model loss')\n",
        "   plt.ylabel('Loss')\n",
        "   plt.xlabel('Epoch')\n",
        "   plt.legend(['Train', 'Test'], loc='upper left')\n",
        "   plt.show()"
      ],
      "execution_count": null,
      "outputs": []
    },
    {
      "cell_type": "markdown",
      "metadata": {
        "colab_type": "text",
        "id": "PXM3ua2AQUgM"
      },
      "source": [
        "Especificado um modelo, a seguinte função apresenta detalhe sobre as suas **camadas**:"
      ]
    },
    {
      "cell_type": "code",
      "metadata": {
        "colab_type": "code",
        "id": "_GiGBqjeT9ax",
        "colab": {}
      },
      "source": [
        "#plot camadas convolucionais e fully connected\n",
        "\n",
        "def camadas(model):\n",
        "  print('Camadas convolucionais:')\n",
        "  # summarize filter shapes\n",
        "  for layer in model.layers:\n",
        "  #check for convolutional layer\n",
        "      if 'conv' not in layer.name:\n",
        "          continue   \n",
        "  # get filter weights\n",
        "      else:\n",
        "          filters, biases = layer.get_weights()\n",
        "          print(layer.name, filters.shape)\n",
        "\n",
        "\n",
        "  print('Camadas fully connected:')\n",
        "  # summarize layers shapes\n",
        "  for layer in model.layers:\n",
        "  #check for fully conection layer\n",
        "      if 'dense' not in layer.name:\n",
        "          continue \n",
        "      else:\n",
        "          filters, biases = layer.get_weights()\n",
        "          print(layer.name, filters.shape)\n",
        "\n",
        "  print('imagens saída de Capas Convolucionais:')\n",
        "  plt.figure(figsize=(20,20))\n",
        "  # retrieve weights from the second hidden layer\n",
        "  filters, biases = model.layers[0].get_weights()\n",
        "  # normalize filter values to 0-1 so we can visualize them\n",
        "  f_min, f_max = filters.min(), filters.max()\n",
        "  filters = (filters - f_min) / (f_max - f_min)\n",
        "  # plot first few filters\n",
        "  n_filters, ix = 6, 1\n",
        "  for i in range(n_filters):\n",
        "  # get the filter\n",
        "      f = filters[:, :, :, i]\n",
        "      # plot each channel separately\n",
        "      for j in range(1):\n",
        "          # specify subplot and turn of axis\n",
        "          ax = plt.subplot(n_filters, 3, ix )\n",
        "          ax.set_xticks([])\n",
        "          ax.set_yticks([])\n",
        "          # plot filter channel in grayscale\n",
        "          plt.imshow(f[:, :, j])\n",
        "          ix += 1\n",
        "  # show the figure\n",
        "  plt.show()"
      ],
      "execution_count": null,
      "outputs": []
    }
  ]
}