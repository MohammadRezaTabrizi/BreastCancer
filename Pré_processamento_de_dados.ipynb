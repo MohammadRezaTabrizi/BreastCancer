{
  "nbformat": 4,
  "nbformat_minor": 0,
  "metadata": {
    "colab": {
      "name": "Pré-processamento de dados.ipynb",
      "provenance": []
    },
    "kernelspec": {
      "name": "python3",
      "display_name": "Python 3"
    }
  },
  "cells": [
    {
      "cell_type": "markdown",
      "metadata": {
        "colab_type": "text",
        "id": "dw_s58emTctZ"
      },
      "source": [
        "### 8. Pré-processamento de dados\n",
        "Não será efetuada **cross-validation** porque os dados têm dimensão relevante.\n",
        "Utilização da loss sparse_categorical_entropy revelou-se mais eficaz que a categorização inicial do output.\n"
      ]
    },
    {
      "cell_type": "markdown",
      "metadata": {
        "colab_type": "text",
        "id": "TbQ4VPxp0_zE"
      },
      "source": [
        "#### 8.1 Standardização de inputs\n",
        "As imagens já surgem standardizadas:"
      ]
    },
    {
      "cell_type": "code",
      "metadata": {
        "colab_type": "code",
        "id": "dbqgW-St1AGU",
        "colab": {
          "base_uri": "https://localhost:8080/"
        },
        "outputId": "6252392d-23db-4782-9236-ac32ea53efe2"
      },
      "source": [
        "# confirm pixel range is 0-255\n",
        "pixels_train = np.asarray(X_train)\n",
        "print('Data Type Train: %s' % pixels_train.dtype)\n",
        "print('Min: %.3f, Max: %.3f' % (pixels_train.min(), pixels_train.max()))\n",
        "# convert from integers to floats\n",
        "pixels_train = pixels_train.astype('float32')\n",
        "# a gray-scale image would only have one channel, i.e., \n",
        "# it would be a single matrix with pixel values ranging from 0 to 255, with 0 indicating black and 255 indicating white \n"
      ],
      "execution_count": null,
      "outputs": [
        {
          "output_type": "stream",
          "text": [
            "Data Type Train: float64\n",
            "Min: 0.002, Max: 1.000\n"
          ],
          "name": "stdout"
        }
      ]
    },
    {
      "cell_type": "markdown",
      "metadata": {
        "colab_type": "text",
        "id": "x5sjOS9E3r2Y"
      },
      "source": [
        "\n",
        "#### 8.2 Partição dos dados\n",
        "\n",
        "* 30% dos dados serão usados para teste\n",
        "* dos restantes 70%, um sub-grupo de 30% será usado para validação: 21% das imagens para validação e 49% para treino"
      ]
    },
    {
      "cell_type": "code",
      "metadata": {
        "colab_type": "code",
        "id": "f9U0vhBcTctj",
        "colab": {}
      },
      "source": [
        "X_train, X_test, y_train, y_test = train_test_split(X_all, y_all, test_size = 0.3,random_state=10)"
      ],
      "execution_count": null,
      "outputs": []
    },
    {
      "cell_type": "code",
      "metadata": {
        "colab_type": "code",
        "id": "zx5ZfHeBo1ol",
        "colab": {}
      },
      "source": [
        "X_train, X_val, y_train, y_val = train_test_split(X_train, y_train, test_size = 0.3,random_state=10)"
      ],
      "execution_count": null,
      "outputs": []
    },
    {
      "cell_type": "code",
      "metadata": {
        "colab_type": "code",
        "id": "H6jV3e3uTcto",
        "colab": {
          "base_uri": "https://localhost:8080/",
          "height": 33
        },
        "outputId": "4803a2dc-ee2f-470c-ac54-8c7c8137c633"
      },
      "source": [
        "print('X_train:',X_train.shape)"
      ],
      "execution_count": null,
      "outputs": [
        {
          "output_type": "stream",
          "text": [
            "X_train: (52729, 50, 50, 1)\n"
          ],
          "name": "stdout"
        }
      ]
    },
    {
      "cell_type": "markdown",
      "metadata": {
        "colab_type": "text",
        "id": "SalSmdgq4WFF"
      },
      "source": [
        "#### 8.3 Converter output em variável categórica\n",
        "A utilização da loss sparse_categorical_entropy revelou-se mais eficaz que a categorização inicial do output."
      ]
    },
    {
      "cell_type": "code",
      "metadata": {
        "colab_type": "code",
        "id": "XkXLVHFWTcuH",
        "colab": {}
      },
      "source": [
        "#altenativa ao sparse_categorical_entropy\n",
        "from keras.utils import to_categorical\n",
        "from keras.callbacks import EarlyStopping, ModelCheckpoint,ReduceLROnPlateau\n",
        "y_trainCat = to_categorical(y_train)\n",
        "y_testCat = to_categorical(y_test)\n",
        "y_valCat = to_categorical(y_val)\n",
        "\n",
        "# Callbacks definition\n",
        "early = EarlyStopping(monitor='val_accuracy', min_delta=0,patience= 5,verbose= True, mode='auto')\n",
        "#Checkpoint=ModelCheckpoint('weights.{epoch:02d}-{val_loss:.2f}.h5', monitor='val_accuracy', verbose=1, save_best_only=True, save_weights_only=False, mode='auto', period=1)\n",
        "LROnPlateau=ReduceLROnPlateau(monitor='val_accuracy', factor=0.1, patience=5, verbose=0, mode='auto', min_delta=0.0001, cooldown=0, min_lr=0)\n",
        "callbacks = [early,LROnPlateau]"
      ],
      "execution_count": null,
      "outputs": []
    }
  ]
}