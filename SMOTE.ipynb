{
  "nbformat": 4,
  "nbformat_minor": 0,
  "metadata": {
    "colab": {
      "name": "SMOTE.ipynb",
      "provenance": []
    },
    "kernelspec": {
      "name": "python3",
      "display_name": "Python 3"
    }
  },
  "cells": [
    {
      "cell_type": "markdown",
      "metadata": {
        "id": "ZJKLN91Xv-8-",
        "colab_type": "text"
      },
      "source": [
        "# Oversampling\n",
        "A técnica de oversampling SMOTE (Sythetic Minority Oversampling TEchnique) consiste em gerar casos sintéticos para as classes de interesse a partir dos casos já existentes. Os novos casos são gerados na vizinhança de cada caso da classe minoritária com o intuito de se crescer o espaço de decisão desta classe e aumentar o poder de generalização dos classificadores obtidos.\n",
        "\n",
        "Visualmente, no espaço amostral do conjunto de dados, os novos casos sintéticos são interpolados aleatoriamente ao longo do segmento de reta que une cada caso da classe minoritária a um de seus k vizinhos mais próximos, escolhidos de forma aleatória.\n",
        "\n"
      ]
    },
    {
      "cell_type": "code",
      "metadata": {
        "colab_type": "code",
        "id": "nwrzsaq2OrR8",
        "colab": {}
      },
      "source": [
        "from __future__ import absolute_import, division, print_function, unicode_literals\n",
        "import pandas as pd\n",
        "import tensorflow as tf\n",
        "from keras import datasets, layers, models\n",
        "from sklearn.model_selection import train_test_split\n",
        "import matplotlib.pyplot as plt\n",
        "import numpy as np\n",
        "import os\n",
        "from tqdm import tqdm #barra de progreso`\n",
        "import cv2\n",
        "from glob import glob\n",
        "#para redimencionar\n",
        "import sklearn\n",
        "import skimage\n",
        "from skimage.transform import resize\n",
        "import random\n",
        "#Usaremos datetime para nombrar archivos\n",
        "import datetime\n",
        "import seaborn as sns\n",
        "from imblearn.over_sampling import RandomOverSampler\n",
        "from imblearn.under_sampling import RandomUnderSampler\n",
        "from skimage.color import rgb2gray\n",
        "from keras.utils import plot_model\n",
        "from keras.models import Model\n",
        "from keras.layers import Input\n",
        "from keras.layers import Dense\n",
        "from keras.layers import Flatten\n",
        "from keras.layers.convolutional import Conv2D\n",
        "from keras.layers.pooling import MaxPooling2D,AveragePooling2D\n",
        "from keras.layers.merge import concatenate\n",
        "#visualizacion modelo\n",
        "import keras\n",
        "import pydot as pyd\n",
        "from IPython.display import SVG\n",
        "from keras.utils.vis_utils import model_to_dot\n",
        "from keras.utils import plot_model\n",
        "from keras.optimizers import Adam\n",
        "from sklearn.metrics import confusion_matrix\n",
        "from sklearn.model_selection import  cross_val_score\n",
        "from sklearn.ensemble import RandomForestClassifier\n",
        "from sklearn.externals import joblib\n",
        "from keras import datasets, layers, models, optimizers\n",
        "from sklearn.utils.multiclass import unique_labels\n",
        "from keras.models import Sequential\n",
        "from keras.layers import Dense, Conv2D, MaxPooling2D,MaxPool2D, Flatten, Embedding, Dropout,BatchNormalization"
      ],
      "execution_count": null,
      "outputs": []
    },
    {
      "cell_type": "code",
      "metadata": {
        "colab_type": "code",
        "id": "c7boUkaL12Mz",
        "colab": {
          "base_uri": "https://localhost:8080/",
          "height": 265
        },
        "outputId": "90ec4521-2eba-41e1-fe6d-918635a13a75"
      },
      "source": [
        "!pip install pydrive\n",
        "from pydrive.auth import GoogleAuth\n",
        "from pydrive.drive import GoogleDrive\n",
        "from google.colab import auth\n",
        "from oauth2client.client import GoogleCredentials\n",
        "auth.authenticate_user()\n",
        "gauth = GoogleAuth()\n",
        "gauth.credentials = GoogleCredentials.get_application_default()\n",
        "drive = GoogleDrive(gauth)"
      ],
      "execution_count": null,
      "outputs": [
        {
          "output_type": "stream",
          "text": [
            "Requirement already satisfied: pydrive in /usr/local/lib/python3.6/dist-packages (1.3.1)\n",
            "Requirement already satisfied: oauth2client>=4.0.0 in /usr/local/lib/python3.6/dist-packages (from pydrive) (4.1.3)\n",
            "Requirement already satisfied: PyYAML>=3.0 in /usr/local/lib/python3.6/dist-packages (from pydrive) (3.13)\n",
            "Requirement already satisfied: google-api-python-client>=1.2 in /usr/local/lib/python3.6/dist-packages (from pydrive) (1.7.12)\n",
            "Requirement already satisfied: pyasn1>=0.1.7 in /usr/local/lib/python3.6/dist-packages (from oauth2client>=4.0.0->pydrive) (0.4.8)\n",
            "Requirement already satisfied: pyasn1-modules>=0.0.5 in /usr/local/lib/python3.6/dist-packages (from oauth2client>=4.0.0->pydrive) (0.2.8)\n",
            "Requirement already satisfied: rsa>=3.1.4 in /usr/local/lib/python3.6/dist-packages (from oauth2client>=4.0.0->pydrive) (4.6)\n",
            "Requirement already satisfied: httplib2>=0.9.1 in /usr/local/lib/python3.6/dist-packages (from oauth2client>=4.0.0->pydrive) (0.17.4)\n",
            "Requirement already satisfied: six>=1.6.1 in /usr/local/lib/python3.6/dist-packages (from oauth2client>=4.0.0->pydrive) (1.12.0)\n",
            "Requirement already satisfied: google-auth>=1.4.1 in /usr/local/lib/python3.6/dist-packages (from google-api-python-client>=1.2->pydrive) (1.17.2)\n",
            "Requirement already satisfied: google-auth-httplib2>=0.0.3 in /usr/local/lib/python3.6/dist-packages (from google-api-python-client>=1.2->pydrive) (0.0.3)\n",
            "Requirement already satisfied: uritemplate<4dev,>=3.0.0 in /usr/local/lib/python3.6/dist-packages (from google-api-python-client>=1.2->pydrive) (3.0.1)\n",
            "Requirement already satisfied: cachetools<5.0,>=2.0.0 in /usr/local/lib/python3.6/dist-packages (from google-auth>=1.4.1->google-api-python-client>=1.2->pydrive) (4.1.0)\n",
            "Requirement already satisfied: setuptools>=40.3.0 in /usr/local/lib/python3.6/dist-packages (from google-auth>=1.4.1->google-api-python-client>=1.2->pydrive) (47.3.1)\n"
          ],
          "name": "stdout"
        }
      ]
    },
    {
      "cell_type": "code",
      "metadata": {
        "colab_type": "code",
        "id": "oqbTqA4mpz85",
        "colab": {}
      },
      "source": [
        "x_train = drive.CreateFile({'id':\"00000000000000000000L\"})   #https://drive.google.com/0000000000000000000000000\n",
        "x_train.GetContentFile('X_BD.npy')        # file name \n",
        "y_train = drive.CreateFile({'id':\"1SLMheO0z2mCOqTP8GEXuLvZwddsmwQR4\"})  # https://drive.google.com/file0000000000000000000000000000000000\n",
        "y_train.GetContentFile('y_BD.npy')\n"
      ],
      "execution_count": null,
      "outputs": []
    },
    {
      "cell_type": "code",
      "metadata": {
        "id": "EG-t9AktS0cO",
        "colab_type": "code",
        "colab": {}
      },
      "source": [
        "X = np.load('X_BD.npy')\n",
        "y = np.load('y_BD.npy') "
      ],
      "execution_count": null,
      "outputs": []
    },
    {
      "cell_type": "markdown",
      "metadata": {
        "id": "IV5D1sx_wMpF",
        "colab_type": "text"
      },
      "source": [
        "# partition Data to test, train,validation data"
      ]
    },
    {
      "cell_type": "code",
      "metadata": {
        "id": "k8jt-ACgYpfO",
        "colab_type": "code",
        "colab": {}
      },
      "source": [
        "X_train, X_test, y_train, y_test = train_test_split(X, y, test_size = 0.3,random_state=10)\n",
        "X_train, X_val, y_train, y_val = train_test_split(X_train, y_train, test_size = 0.3,random_state=10)"
      ],
      "execution_count": null,
      "outputs": []
    },
    {
      "cell_type": "code",
      "metadata": {
        "colab_type": "code",
        "id": "06MPtMK6rfac",
        "colab": {}
      },
      "source": [
        "def count_labels(y_all):\n",
        "    how_many_0 = len(np.where(y==0)[0])\n",
        "    how_many_1 = len(np.where(y==1)[0])\n",
        "\n",
        "\n",
        "    print('#NON CANCER:',how_many_0)\n",
        "    print('#CANCER:',how_many_1)\n",
        "\n",
        "    return how_many_0,how_many_1"
      ],
      "execution_count": null,
      "outputs": []
    },
    {
      "cell_type": "code",
      "metadata": {
        "colab_type": "code",
        "id": "Y6ZTIsU6rj_t",
        "colab": {
          "base_uri": "https://localhost:8080/",
          "height": 343
        },
        "outputId": "2d2343aa-12a9-4e91-8a08-d107e623b25c"
      },
      "source": [
        "plt.figure(figsize=(8,4))\n",
        "map_characters = {0: 'NON CANCER', 1: 'CANCER'}\n",
        "dict_characters=map_characters\n",
        "df = pd.DataFrame()\n",
        "df[\"labels\"]=y_train\n",
        "lab = df['labels']\n",
        "dist = lab.value_counts()\n",
        "sns.countplot(lab).set_title(count_labels(y))"
      ],
      "execution_count": null,
      "outputs": [
        {
          "output_type": "stream",
          "text": [
            "#NON CANCER: 76751\n",
            "#CANCER: 30861\n"
          ],
          "name": "stdout"
        },
        {
          "output_type": "execute_result",
          "data": {
            "text/plain": [
              "Text(0.5, 1.0, '(76751, 30861)')"
            ]
          },
          "metadata": {
            "tags": []
          },
          "execution_count": 7
        },
        {
          "output_type": "display_data",
          "data": {
            "image/png": "[encoded data removed]",
            "text/plain": [
              "<Figure size 576x288 with 1 Axes>"
            ]
          },
          "metadata": {
            "tags": [],
            "needs_background": "light"
          }
        }
      ]
    },
    {
      "cell_type": "markdown",
      "metadata": {
        "id": "hXk2rG_gwmGr",
        "colab_type": "text"
      },
      "source": [
        "# Técnica exige que dados de input estejam num vetor:"
      ]
    },
    {
      "cell_type": "code",
      "metadata": {
        "id": "vxg3s9W_a8SR",
        "colab_type": "code",
        "colab": {
          "base_uri": "https://localhost:8080/",
          "height": 33
        },
        "outputId": "15f2f7dd-bf7e-4ee9-8d16-589158319e68"
      },
      "source": [
        "X_train_vec=[]\n",
        "#X_trainReshaped = X_train.reshape(len(X_train),200,200)\n",
        "print(X_train.shape)\n",
        "for i in X_train:\n",
        "    img = i\n",
        "    #print(img.shape)\n",
        "    cols,colors,dim = img.shape # gives dimensions for RGB array\n",
        "    img_size = cols*colors*dim\n",
        "    img_1D_vector = img.reshape(img_size)\n",
        "    # you can recover the orginal image with:\n",
        "    img2 = img_1D_vector.reshape(cols,colors,dim)\n",
        "    X_train_vec.append(img_1D_vector)"
      ],
      "execution_count": null,
      "outputs": [
        {
          "output_type": "stream",
          "text": [
            "(52729, 50, 50, 1)\n"
          ],
          "name": "stdout"
        }
      ]
    },
    {
      "cell_type": "markdown",
      "metadata": {
        "id": "KLesnaBU3xqF",
        "colab_type": "text"
      },
      "source": [
        "* Aplicação de método de SMOTE"
      ]
    },
    {
      "cell_type": "code",
      "metadata": {
        "id": "GJY0J7pxZ0ZT",
        "colab_type": "code",
        "colab": {
          "base_uri": "https://localhost:8080/",
          "height": 70
        },
        "outputId": "b47de402-c88d-42c1-e43a-d1e8e9f09eb6"
      },
      "source": [
        "from imblearn.over_sampling import SMOTE\n",
        "sm= SMOTE(random_state=12,ratio=1.0)\n",
        "X_train_res, y_train_res = sm. fit_sample(X_train_vec,y_train)"
      ],
      "execution_count": null,
      "outputs": [
        {
          "output_type": "stream",
          "text": [
            "/usr/local/lib/python3.6/dist-packages/sklearn/utils/deprecation.py:87: FutureWarning: Function safe_indexing is deprecated; safe_indexing is deprecated in version 0.22 and will be removed in version 0.24.\n",
            "  warnings.warn(msg, category=FutureWarning)\n"
          ],
          "name": "stderr"
        }
      ]
    },
    {
      "cell_type": "code",
      "metadata": {
        "colab_type": "code",
        "id": "c0zixrMl3Jsu",
        "colab": {}
      },
      "source": [
        "def count_labels(y_all):\n",
        "    how_many_0 = len(np.where(y==0)[0])\n",
        "    how_many_1 = len(np.where(y==1)[0])\n",
        "\n",
        "\n",
        "    print('#NON CANCER:',how_many_0)\n",
        "    print('#CANCER:',how_many_1)\n",
        "\n",
        "    return how_many_0,how_many_1"
      ],
      "execution_count": null,
      "outputs": []
    },
    {
      "cell_type": "code",
      "metadata": {
        "colab_type": "code",
        "id": "AXhvU0NDOrSu",
        "colab": {
          "base_uri": "https://localhost:8080/",
          "height": 343
        },
        "outputId": "fc0245a8-0e40-49e8-aa10-6a8443730249"
      },
      "source": [
        "plt.figure(figsize=(8,4))\n",
        "map_characters = {0: 'NON CANCER', 1: 'CANCER'}\n",
        "dict_characters=map_characters\n",
        "df = pd.DataFrame()\n",
        "df[\"labels\"]=y_train_res\n",
        "lab = df['labels']\n",
        "dist = lab.value_counts()\n",
        "sns.countplot(lab).set_title(count_labels(y_train_res))"
      ],
      "execution_count": null,
      "outputs": [
        {
          "output_type": "stream",
          "text": [
            "#NON CANCER: 76751\n",
            "#CANCER: 30861\n"
          ],
          "name": "stdout"
        },
        {
          "output_type": "execute_result",
          "data": {
            "text/plain": [
              "Text(0.5, 1.0, '(76751, 30861)')"
            ]
          },
          "metadata": {
            "tags": []
          },
          "execution_count": 13
        },
        {
          "output_type": "display_data",
          "data": {
            "image/png": "[encoded data removed]",
            "text/plain": [
              "<Figure size 576x288 with 1 Axes>"
            ]
          },
          "metadata": {
            "tags": [],
            "needs_background": "light"
          }
        }
      ]
    },
    {
      "cell_type": "markdown",
      "metadata": {
        "id": "QZvX4STsw6Jc",
        "colab_type": "text"
      },
      "source": [
        "* Confirmar nova dimensão dos dados:"
      ]
    },
    {
      "cell_type": "markdown",
      "metadata": {
        "id": "z-I8EaDQw9UO",
        "colab_type": "text"
      },
      "source": [
        "* sampling target de dados antes de ovesamping SMOTE"
      ]
    },
    {
      "cell_type": "code",
      "metadata": {
        "id": "8CQ3GIGWgNuH",
        "colab_type": "code",
        "colab": {
          "base_uri": "https://localhost:8080/",
          "height": 66
        },
        "outputId": "0509f4b2-7ec3-4a4c-a819-8c18f06ce152"
      },
      "source": [
        "count_labels(y_train)"
      ],
      "execution_count": null,
      "outputs": [
        {
          "output_type": "stream",
          "text": [
            "#NON CANCER: 76751\n",
            "#CANCER: 30861\n"
          ],
          "name": "stdout"
        },
        {
          "output_type": "execute_result",
          "data": {
            "text/plain": [
              "(76751, 30861)"
            ]
          },
          "metadata": {
            "tags": []
          },
          "execution_count": 17
        }
      ]
    },
    {
      "cell_type": "markdown",
      "metadata": {
        "id": "QLPrDb8NxJ6N",
        "colab_type": "text"
      },
      "source": [
        "* sampling target de dados depois de ovesamping SMOTE"
      ]
    },
    {
      "cell_type": "code",
      "metadata": {
        "id": "Tl3QjPHQgPP7",
        "colab_type": "code",
        "colab": {
          "base_uri": "https://localhost:8080/",
          "height": 66
        },
        "outputId": "ba25905f-4b83-4203-91c7-c1245e95b21b"
      },
      "source": [
        "\n",
        "count_labels(y_train_res)"
      ],
      "execution_count": null,
      "outputs": [
        {
          "output_type": "stream",
          "text": [
            "#NON CANCER: 76751\n",
            "#CANCER: 30861\n"
          ],
          "name": "stdout"
        },
        {
          "output_type": "execute_result",
          "data": {
            "text/plain": [
              "(76751, 30861)"
            ]
          },
          "metadata": {
            "tags": []
          },
          "execution_count": 18
        }
      ]
    }
  ]
}